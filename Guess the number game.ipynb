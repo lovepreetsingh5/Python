{
 "cells": [
  {
   "cell_type": "markdown",
   "metadata": {},
   "source": [
    "## This is a guess the number game."
   ]
  },
  {
   "cell_type": "code",
   "execution_count": 1,
   "metadata": {},
   "outputs": [],
   "source": [
    "import random"
   ]
  },
  {
   "cell_type": "code",
   "execution_count": 2,
   "metadata": {},
   "outputs": [
    {
     "name": "stdout",
     "output_type": "stream",
     "text": [
      "Hello, What is your name?\n",
      "Lovepreet Singh\n"
     ]
    }
   ],
   "source": [
    "print('Hello, What is your name?')\n",
    "name=input()"
   ]
  },
  {
   "cell_type": "code",
   "execution_count": 4,
   "metadata": {},
   "outputs": [
    {
     "name": "stdout",
     "output_type": "stream",
     "text": [
      "Well, Lovepreet Singh I am thinking of a number between 1 to 50.\n",
      "Take guess 1\n",
      "10\n",
      "Your guess is too low.\n",
      "Take guess 2\n",
      "20\n",
      "Your guess is too low.\n",
      "Take guess 3\n",
      "30\n",
      "Your guess is too low.\n",
      "Take guess 4\n",
      "40\n",
      "Your guess is too high.\n",
      "Take guess 5\n",
      "35\n",
      "Good Job.. Lovepreet Singh! You guessed the number in 5 guesses.\n"
     ]
    }
   ],
   "source": [
    "print('Well,',name,'I am thinking of a number between 1 to 50.')\n",
    "secretNum=random.randint(1,50)\n",
    "for guessTaken in range(1,10):\n",
    "    print('Take guess',str(guessTaken))\n",
    "    guess=int(input())\n",
    "    if guess < secretNum:\n",
    "        print('Your guess is too low.')\n",
    "    elif guess > secretNum:\n",
    "        print('Your guess is too high.')\n",
    "    else:\n",
    "        break   #this condition is for correct guess.\n",
    "if guess==secretNum:\n",
    "    print('Good Job..',name+'! You guessed the number in',str(guessTaken),'guesses.')\n",
    "else:\n",
    "    print('Nope. The number which I was thinking of is',str(secretNum),'.')"
   ]
  },
  {
   "cell_type": "markdown",
   "metadata": {},
   "source": [
    "#### This is the case in which we are able to guess the number within specific number of chances given."
   ]
  },
  {
   "cell_type": "code",
   "execution_count": 5,
   "metadata": {},
   "outputs": [
    {
     "name": "stdout",
     "output_type": "stream",
     "text": [
      "Well, Lovepreet Singh I am thinking of a number between 1 to 50.\n",
      "Take guess 1\n",
      "1\n",
      "Your guess is too low.\n",
      "Take guess 2\n",
      "5\n",
      "Your guess is too low.\n",
      "Take guess 3\n",
      "7\n",
      "Your guess is too low.\n",
      "Take guess 4\n",
      "10\n",
      "Your guess is too low.\n",
      "Take guess 5\n",
      "12\n",
      "Your guess is too low.\n",
      "Take guess 6\n",
      "15\n",
      "Your guess is too low.\n",
      "Take guess 7\n",
      "17\n",
      "Your guess is too low.\n",
      "Take guess 8\n",
      "20\n",
      "Your guess is too low.\n",
      "Take guess 9\n",
      "25\n",
      "Your guess is too low.\n",
      "Nope. The number which I was thinking of is 43 .\n"
     ]
    }
   ],
   "source": [
    "print('Well,',name,'I am thinking of a number between 1 to 50.')\n",
    "secretNum=random.randint(1,50)\n",
    "for guessTaken in range(1,10):\n",
    "    print('Take guess',str(guessTaken))\n",
    "    guess=int(input())\n",
    "    if guess < secretNum:\n",
    "        print('Your guess is too low.')\n",
    "    elif guess > secretNum:\n",
    "        print('Your guess is too high.')\n",
    "    else:\n",
    "        break   #this condition is for correct guess.\n",
    "if guess==secretNum:\n",
    "    print('Good Job..',name+'! You guessed the number in',str(guessTaken),'guesses.')\n",
    "else:\n",
    "    print('Nope. The number which I was thinking of is',str(secretNum),'.')\n"
   ]
  },
  {
   "cell_type": "markdown",
   "metadata": {},
   "source": [
    "#### But in this case the user is not able to guess the number within 9 guesses or any other number specified (if changed). So, after specific number of guesses the program will automatically tells the secret number's value. "
   ]
  },
  {
   "cell_type": "code",
   "execution_count": null,
   "metadata": {},
   "outputs": [],
   "source": []
  }
 ],
 "metadata": {
  "kernelspec": {
   "display_name": "Python 3",
   "language": "python",
   "name": "python3"
  },
  "language_info": {
   "codemirror_mode": {
    "name": "ipython",
    "version": 3
   },
   "file_extension": ".py",
   "mimetype": "text/x-python",
   "name": "python",
   "nbconvert_exporter": "python",
   "pygments_lexer": "ipython3",
   "version": "3.7.3"
  }
 },
 "nbformat": 4,
 "nbformat_minor": 2
}
