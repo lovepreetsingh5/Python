{
 "cells": [
  {
   "cell_type": "markdown",
   "metadata": {},
   "source": [
    "## This is a guess the number game."
   ]
  },
  {
   "cell_type": "code",
   "execution_count": 1,
   "metadata": {},
   "outputs": [],
   "source": [
    "import random"
   ]
  },
  {
   "cell_type": "code",
   "execution_count": 2,
   "metadata": {},
   "outputs": [
    {
     "name": "stdout",
     "output_type": "stream",
     "text": [
      "Hello, What is your name?\n",
      "Lovepreet Singh\n"
     ]
    }
   ],
   "source": [
    "print('Hello, What is your name?')\n",
    "name=input()"
   ]
  },
  {
   "cell_type": "code",
   "execution_count": 3,
   "metadata": {},
   "outputs": [
    {
     "name": "stdout",
     "output_type": "stream",
     "text": [
      "Well, Lovepreet Singh I am thinking of a number between 1 to 50.\n",
      "Take 1 guess.\n",
      "10\n",
      "Your guess is too low.\n",
      "Take 2 guess.\n",
      "20\n",
      "Your guess is too low.\n",
      "Take 3 guess.\n",
      "30\n",
      "Your guess is too high.\n",
      "Take 4 guess.\n",
      "25\n",
      "Your guess is too low.\n",
      "Take 5 guess.\n",
      "27\n",
      "Your guess is too low.\n",
      "Take 6 guess.\n",
      "28\n",
      "Your guess is too low.\n",
      "Take 7 guess.\n",
      "29\n",
      "Good Job.. Lovepreet Singh! You guessed the number in 7 guesses.\n"
     ]
    }
   ],
   "source": [
    "print('Well,',name,'I am thinking of a number between 1 to 50.')\n",
    "secretNum=random.randint(1,50)\n",
    "for guessTaken in range(1,10):\n",
    "    print('Take',str(guessTaken),'guess.')\n",
    "    guess=int(input())\n",
    "    if guess < secretNum:\n",
    "        print('Your guess is too low.')\n",
    "    elif guess > secretNum:\n",
    "        print('Your guess is too high.')\n",
    "    else:\n",
    "        break   #this condition is for correct guess.\n",
    "if guess==secretNum:\n",
    "    print('Good Job..',name+'! You guessed the number in',str(guessTaken),'guesses.')\n",
    "else:\n",
    "    print('Nope. The number which I was thinking of is',str(secretNum),'.')\n"
   ]
  },
  {
   "cell_type": "markdown",
   "metadata": {},
   "source": []
  }
 ],
 "metadata": {
  "kernelspec": {
   "display_name": "Python 3",
   "language": "python",
   "name": "python3"
  },
  "language_info": {
   "codemirror_mode": {
    "name": "ipython",
    "version": 3
   },
   "file_extension": ".py",
   "mimetype": "text/x-python",
   "name": "python",
   "nbconvert_exporter": "python",
   "pygments_lexer": "ipython3",
   "version": "3.7.3"
  }
 },
 "nbformat": 4,
 "nbformat_minor": 2
}
