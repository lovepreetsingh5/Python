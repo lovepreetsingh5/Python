{
 "cells": [
  {
   "cell_type": "code",
   "execution_count": 1,
   "metadata": {},
   "outputs": [],
   "source": [
    "import re"
   ]
  },
  {
   "cell_type": "code",
   "execution_count": 12,
   "metadata": {},
   "outputs": [],
   "source": [
    "#create a regex for phone number.\n",
    "phoneRegex=re.compile(r'''\n",
    "#415-555-9999, 555-0000, (415) 555-0000, 555-0000 ext 12345, ext. 12345, x12345\n",
    "(\n",
    "((\\d\\d\\d) | (\\(\\d\\d\\d\\)))?    # area code(optional)\n",
    "(\\s | -)   # first-seperator\n",
    "\\d\\d\\d    # first 3 digits\n",
    "-    # seperator\n",
    "\\d\\d\\d\\d    # last 4 digits\n",
    "(((ext(\\.)?\\s) | x)    # extension word-part(optional)\n",
    "(\\d{2,5}))?    # extension number-part(optional)\n",
    ")\n",
    "''',re.VERBOSE)     "
   ]
  },
  {
   "cell_type": "markdown",
   "metadata": {},
   "source": [
    "#### VERBOSE is used to add comments to each part of the pattern. It improves the code readability.\n",
    "#### re.VERBOSE will simply ignore the comments and matches the input text with the pattern."
   ]
  },
  {
   "cell_type": "code",
   "execution_count": 3,
   "metadata": {},
   "outputs": [],
   "source": [
    "#create a regex for email address\n",
    "emailRegex=re.compile(r'''\n",
    "# some.+_thing@something.com\n",
    "[a-zA-Z0-9_+.]+    # name part\n",
    "@    # @ symbol\n",
    "[a-zA-Z0-9_+.]+    # domain name part\n",
    "''',re.VERBOSE)"
   ]
  },
  {
   "cell_type": "code",
   "execution_count": 36,
   "metadata": {},
   "outputs": [],
   "source": [
    "text='''My name is Lovepreet Singh. My contact no. is 415-555-9999 and e-mail address is lovepreet6286@gmail.com\n",
    "        He is Abc. His contact no. is 555-0000 and email-address is abc@yahoo.com\n",
    "        She is xyz. Her contact no. is (415) 555-9999ext. 123 and email is xyz@gmail.com'''"
   ]
  },
  {
   "cell_type": "code",
   "execution_count": 37,
   "metadata": {},
   "outputs": [
    {
     "data": {
      "text/plain": [
       "'My name is Lovepreet Singh. My contact no. is 415-555-9999 and e-mail address is lovepreet6286@gmail.com\\n        He is Abc. His contact no. is 555-0000 and email-address is abc@yahoo.com\\n        She is xyz. Her contact no. is (415) 555-9999ext. 123 and email is xyz@gmail.com'"
      ]
     },
     "execution_count": 37,
     "metadata": {},
     "output_type": "execute_result"
    }
   ],
   "source": [
    "text"
   ]
  },
  {
   "cell_type": "code",
   "execution_count": 32,
   "metadata": {},
   "outputs": [
    {
     "data": {
      "text/plain": [
       "[('415-555-9999', '415', '415', '', '-', '', '', '', '', ''),\n",
       " (' 555-0000', '', '', '', ' ', '', '', '', '', ''),\n",
       " ('(415) 555-9999ext. 123',\n",
       "  '(415)',\n",
       "  '',\n",
       "  '(415)',\n",
       "  ' ',\n",
       "  'ext. 123',\n",
       "  'ext. ',\n",
       "  'ext. ',\n",
       "  '.',\n",
       "  '123')]"
      ]
     },
     "execution_count": 32,
     "metadata": {},
     "output_type": "execute_result"
    }
   ],
   "source": [
    "extractedPhone=phoneRegex.findall(text)\n",
    "extractedPhone     # each of the group pattern is printed. We will extract the first element of each tuple in the list."
   ]
  },
  {
   "cell_type": "code",
   "execution_count": 33,
   "metadata": {},
   "outputs": [
    {
     "data": {
      "text/plain": [
       "['lovepreet6286@gmail.com', 'abc@yahoo.com', 'xyz@gmail.com']"
      ]
     },
     "execution_count": 33,
     "metadata": {},
     "output_type": "execute_result"
    }
   ],
   "source": [
    "extractedEmail=emailRegex.findall(text)\n",
    "extractedEmail"
   ]
  },
  {
   "cell_type": "code",
   "execution_count": 34,
   "metadata": {},
   "outputs": [
    {
     "data": {
      "text/plain": [
       "['415-555-9999', ' 555-0000', '(415) 555-9999ext. 123']"
      ]
     },
     "execution_count": 34,
     "metadata": {},
     "output_type": "execute_result"
    }
   ],
   "source": [
    "allPhoneNumbers=[]\n",
    "for phoneNumbers in extractedPhone:\n",
    "    allPhoneNumbers.append(phoneNumbers[0])\n",
    "allPhoneNumbers"
   ]
  },
  {
   "cell_type": "code",
   "execution_count": 35,
   "metadata": {},
   "outputs": [
    {
     "name": "stdout",
     "output_type": "stream",
     "text": [
      "415-555-9999\n",
      " 555-0000\n",
      "(415) 555-9999ext. 123\n",
      "lovepreet6286@gmail.com\n",
      "abc@yahoo.com\n",
      "xyz@gmail.com\n"
     ]
    }
   ],
   "source": [
    "result='\\n'.join(allPhoneNumbers)+'\\n'+'\\n'.join(extractedEmail)\n",
    "print(result)"
   ]
  },
  {
   "cell_type": "code",
   "execution_count": null,
   "metadata": {},
   "outputs": [],
   "source": []
  }
 ],
 "metadata": {
  "kernelspec": {
   "display_name": "Python 3",
   "language": "python",
   "name": "python3"
  },
  "language_info": {
   "codemirror_mode": {
    "name": "ipython",
    "version": 3
   },
   "file_extension": ".py",
   "mimetype": "text/x-python",
   "name": "python",
   "nbconvert_exporter": "python",
   "pygments_lexer": "ipython3",
   "version": "3.7.3"
  }
 },
 "nbformat": 4,
 "nbformat_minor": 2
}
